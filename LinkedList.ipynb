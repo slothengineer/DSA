{
  "nbformat": 4,
  "nbformat_minor": 0,
  "metadata": {
    "colab": {
      "provenance": [],
      "authorship_tag": "ABX9TyMVlRSxpq4WjzXaDWuUmit0",
      "include_colab_link": true
    },
    "kernelspec": {
      "name": "python3",
      "display_name": "Python 3"
    },
    "language_info": {
      "name": "python"
    }
  },
  "cells": [
    {
      "cell_type": "markdown",
      "metadata": {
        "id": "view-in-github",
        "colab_type": "text"
      },
      "source": [
        "<a href=\"https://colab.research.google.com/github/slothengineer/DSA/blob/main/LinkedList.ipynb\" target=\"_parent\"><img src=\"https://colab.research.google.com/assets/colab-badge.svg\" alt=\"Open In Colab\"/></a>"
      ]
    },
    {
      "cell_type": "code",
      "execution_count": 34,
      "metadata": {
        "colab": {
          "base_uri": "https://localhost:8080/"
        },
        "id": "uGhSq5WNCjgd",
        "outputId": "afab21d3-dfd7-4f46-b58c-c9d20af4246a"
      },
      "outputs": [
        {
          "output_type": "stream",
          "name": "stdout",
          "text": [
            "24  9  2  11  "
          ]
        }
      ],
      "source": [
        "## insert node at beginning\n",
        "class ListNode():\n",
        "  def __init__(self, data):\n",
        "    self.data = data\n",
        "    self.next = None\n",
        "\n",
        "class LinkedList():\n",
        "  def __init__(self):\n",
        "    self.head = None\n",
        "\n",
        "\n",
        "  def insertatBeginning(self, new_data):\n",
        "    new_node = ListNode(new_data)\n",
        "\n",
        "    new_node.next = self.head\n",
        "    self.head = new_node\n",
        "\n",
        "  def printlist(self):\n",
        "    temp = self.head\n",
        "    while temp:\n",
        "      print(str(temp.data)+\" \",end=\" \")\n",
        "      temp = temp.next\n",
        "\n",
        "llist = LinkedList()\n",
        "\n",
        "llist.insertatBeginning(11)\n",
        "llist.insertatBeginning(2)\n",
        "llist.insertatBeginning(9)\n",
        "llist.insertatBeginning(24)\n",
        "llist.printlist()"
      ]
    },
    {
      "cell_type": "code",
      "source": [
        "## insert node at end and after any node\n",
        "class ListNode():\n",
        "  def __init__(self, data):\n",
        "    self.data = data\n",
        "    self.next = None\n",
        "\n",
        "class LinkedList():\n",
        "  def __init__(self):\n",
        "    self.head = None\n",
        "\n",
        "  def insertatEnd(self, new_data):\n",
        "    new_node = ListNode(new_data)\n",
        "    if self.head is None:\n",
        "        self.head = new_node\n",
        "        return\n",
        "\n",
        "    temp = self.head\n",
        "    while temp.next:\n",
        "        temp = temp.next\n",
        "\n",
        "    temp.next = new_node\n",
        "\n",
        "  def insertafterNode(self, prev_node, new_data):\n",
        "    if prev_node is None:\n",
        "      print (\"given node must be in list\")\n",
        "      return\n",
        "    new_node = ListNode(new_data)\n",
        "    new_node.next = prev_node.next\n",
        "    prev_node.next = new_node\n",
        "\n",
        "\n",
        "  def printlist(self):\n",
        "    temp = self.head\n",
        "    while temp:\n",
        "      print(str(temp.data)+\" \",end=\" \")\n",
        "      temp = temp.next\n",
        "\n",
        "llist = LinkedList()\n",
        "\n",
        "llist.insertatEnd(14)\n",
        "llist.insertatEnd(22)\n",
        "llist.insertatEnd(24)\n",
        "llist.insertatEnd(29)\n",
        "llist.insertatEnd(15)\n",
        "print(\"Original LinkedList:\")\n",
        "llist.printlist()\n",
        "print()\n",
        "llist.insertafterNode(llist.head.next, 4)\n",
        "llist.insertafterNode(llist.head.next.next.next, 11)\n",
        "print(\"List after Insertion after any node:\")\n",
        "llist.printlist()"
      ],
      "metadata": {
        "colab": {
          "base_uri": "https://localhost:8080/"
        },
        "id": "fZgh0JKmFsP2",
        "outputId": "d0995101-bd56-4b7b-8cac-c5ce2fbb8d8c"
      },
      "execution_count": 35,
      "outputs": [
        {
          "output_type": "stream",
          "name": "stdout",
          "text": [
            "Original LinkedList:\n",
            "14  22  24  29  15  \n",
            "List after Insertion after any node:\n",
            "14  22  4  24  11  29  15  "
          ]
        }
      ]
    },
    {
      "cell_type": "code",
      "source": [
        "## delete node in linkedlist\n",
        "class ListNode():\n",
        "   def __init__(self, data):\n",
        "     self.data = data\n",
        "     self.next = None\n",
        "\n",
        "class LinkedList():\n",
        "   def __init__(self):\n",
        "     self.head = None\n",
        "\n",
        "   def insertatEnd(self, new_data):\n",
        "     new_node = ListNode(new_data)\n",
        "     if self.head is None:\n",
        "         self.head = new_node\n",
        "         return\n",
        "\n",
        "     temp = self.head\n",
        "     while temp.next:\n",
        "         temp = temp.next\n",
        "\n",
        "     temp.next = new_node\n",
        "\n",
        "   def deleteNode(self, pos):\n",
        "       if self.head is None:\n",
        "         return\n",
        "\n",
        "       temp = self.head\n",
        "       for i in range(pos-1):\n",
        "         temp = temp.next\n",
        "         if temp is None:\n",
        "           return\n",
        "\n",
        "       next_ptr = temp.next.next\n",
        "       temp.next = None\n",
        "       temp.next = next_ptr\n",
        "\n",
        "\n",
        "\n",
        "   def printlist(self):\n",
        "     temp = self.head\n",
        "     while temp:\n",
        "       print(str(temp.data)+\" \",end=\" \")\n",
        "       temp = temp.next\n",
        "\n",
        "llist = LinkedList()\n",
        "\n",
        "llist.insertatEnd(14)\n",
        "llist.insertatEnd(22)\n",
        "llist.insertatEnd(24)\n",
        "llist.insertatEnd(29)\n",
        "llist.insertatEnd(15)\n",
        "llist.insertatEnd(11)\n",
        "print(\"Original LinkedList:\")\n",
        "llist.printlist()\n",
        "print()\n",
        "llist.deleteNode(4)\n",
        "print(\"List after deletion:\")\n",
        "llist.printlist()"
      ],
      "metadata": {
        "colab": {
          "base_uri": "https://localhost:8080/"
        },
        "id": "TWh70nhdPK2q",
        "outputId": "2faee9dc-3ca5-4d96-8ffc-aea0dbcb5733"
      },
      "execution_count": 36,
      "outputs": [
        {
          "output_type": "stream",
          "name": "stdout",
          "text": [
            "Original LinkedList:\n",
            "14  22  24  29  15  11  \n",
            "List after deletion:\n",
            "14  22  24  29  11  "
          ]
        }
      ]
    },
    {
      "cell_type": "code",
      "source": [
        "## seaching of node\n",
        "class ListNode:\n",
        "   def __init__(self, data):\n",
        "     self.data = data\n",
        "     self.next = None\n",
        "\n",
        "class LinkedList:\n",
        "   def __init__(self):\n",
        "     self.head = None\n",
        "\n",
        "   def insertatEnd(self, new_data):\n",
        "     new_node = ListNode(new_data)\n",
        "     if self.head is None:\n",
        "         self.head = new_node\n",
        "         return\n",
        "\n",
        "     temp = self.head\n",
        "     while temp.next:\n",
        "         temp = temp.next\n",
        "\n",
        "     temp.next = new_node\n",
        "\n",
        "   def searchNode(self, key):\n",
        "     temp = self.head\n",
        "     while temp:\n",
        "       if temp.data == key:\n",
        "         return True\n",
        "       temp = temp.next\n",
        "     return False\n",
        "\n",
        "\n",
        "   def printlist(self):\n",
        "     temp = self.head\n",
        "     while temp:\n",
        "       print(str(temp.data)+\" \",end=\" \")\n",
        "       temp = temp.next\n",
        "\n",
        "llist = LinkedList()\n",
        "\n",
        "llist.insertatEnd(14)\n",
        "llist.insertatEnd(22)\n",
        "llist.insertatEnd(24)\n",
        "llist.insertatEnd(29)\n",
        "llist.insertatEnd(15)\n",
        "llist.insertatEnd(11)\n",
        "print(\"Original LinkedList:\")\n",
        "llist.printlist()\n",
        "print()\n",
        "\n",
        "key = 22\n",
        "if(llist.searchNode(key)):\n",
        "    print(str(key)+\" is found\")\n",
        "else:\n",
        "    print(str(key)+\" is not found\")\n"
      ],
      "metadata": {
        "colab": {
          "base_uri": "https://localhost:8080/"
        },
        "id": "PG4RXXz0QzzO",
        "outputId": "03adc62d-3c88-4e3d-b6f3-2ebf023beacd"
      },
      "execution_count": 37,
      "outputs": [
        {
          "output_type": "stream",
          "name": "stdout",
          "text": [
            "Original LinkedList:\n",
            "14  22  24  29  15  11  \n",
            "22 is found\n"
          ]
        }
      ]
    },
    {
      "cell_type": "code",
      "source": [
        "## list reversal\n",
        "class ListNode:\n",
        "   def __init__(self, data):\n",
        "     self.data = data\n",
        "     self.next = None\n",
        "\n",
        "class LinkedList:\n",
        "   def __init__(self):\n",
        "     self.head = None\n",
        "\n",
        "   def insertatEnd(self, new_data):\n",
        "     new_node = ListNode(new_data)\n",
        "     if self.head is None:\n",
        "         self.head = new_node\n",
        "         return\n",
        "\n",
        "     temp = self.head\n",
        "     while temp.next:\n",
        "         temp = temp.next\n",
        "\n",
        "     temp.next = new_node\n",
        "\n",
        "   def listReversal(self):\n",
        "     prev = None\n",
        "     next_ptr = None\n",
        "     curr = self.head\n",
        "     while curr:\n",
        "       next_ptr = curr.next\n",
        "       curr.next = prev\n",
        "       prev = curr\n",
        "       curr = next_ptr\n",
        "     self.head = prev\n",
        "\n",
        "\n",
        "   def printlist(self):\n",
        "     temp = self.head\n",
        "     while temp:\n",
        "       print(str(temp.data)+\" \",end=\" \")\n",
        "       temp = temp.next\n",
        "\n",
        "llist = LinkedList()\n",
        "\n",
        "llist.insertatEnd(14)\n",
        "llist.insertatEnd(22)\n",
        "llist.insertatEnd(24)\n",
        "llist.insertatEnd(29)\n",
        "llist.insertatEnd(15)\n",
        "llist.insertatEnd(11)\n",
        "print(\"Original LinkedList:\")\n",
        "llist.printlist()\n",
        "print()\n",
        "print(\"Reversal Linked List\")\n",
        "llist.listReversal()\n",
        "llist.printlist()"
      ],
      "metadata": {
        "id": "inaPsGdtUsk6",
        "colab": {
          "base_uri": "https://localhost:8080/"
        },
        "outputId": "27d04e39-20d0-4855-e8b0-6f4513f66898"
      },
      "execution_count": 38,
      "outputs": [
        {
          "output_type": "stream",
          "name": "stdout",
          "text": [
            "Original LinkedList:\n",
            "14  22  24  29  15  11  \n",
            "Reversal Linked List\n",
            "11  15  29  24  22  14  "
          ]
        }
      ]
    },
    {
      "cell_type": "code",
      "source": [
        "## cycle detection in list\n",
        "class ListNode:\n",
        "   def __init__(self, data):\n",
        "     self.data = data\n",
        "     self.next = None\n",
        "\n",
        "class LinkedList:\n",
        "   def __init__(self):\n",
        "     self.head = None\n",
        "\n",
        "   def insertatEnd(self, new_data):\n",
        "     new_node = ListNode(new_data)\n",
        "     if self.head is None:\n",
        "         self.head = new_node\n",
        "         return\n",
        "\n",
        "     temp = self.head\n",
        "     while temp.next:\n",
        "         temp = temp.next\n",
        "\n",
        "     temp.next = new_node\n",
        "\n",
        "   def cycleDetection(self):\n",
        "     hare = self.head\n",
        "     tortoise = self.head\n",
        "     while tortoise and hare and hare.next:\n",
        "       tortoise = tortoise.next\n",
        "       hare = hare.next.next\n",
        "       if tortoise == hare:\n",
        "         return True\n",
        "     return False\n",
        "\n",
        "\n",
        "   def printlist(self):\n",
        "     temp = self.head\n",
        "     while temp:\n",
        "       print(str(temp.data)+\" \",end=\" \")\n",
        "       temp = temp.next\n",
        "\n",
        "llist = LinkedList()\n",
        "\n",
        "llist.insertatEnd(14)\n",
        "llist.insertatEnd(22)\n",
        "llist.insertatEnd(24)\n",
        "llist.insertatEnd(29)\n",
        "llist.insertatEnd(15)\n",
        "llist.insertatEnd(11)\n",
        "llist.printlist()\n",
        "\n",
        "llist.head.next.next = llist.head\n",
        "print()\n",
        "\n",
        "if llist.cycleDetection():\n",
        "    print(\"Detected the Loop inside the linked list\")\n",
        "else:\n",
        "    print(\"No Loop\")"
      ],
      "metadata": {
        "colab": {
          "base_uri": "https://localhost:8080/"
        },
        "id": "zmAEocErFS1C",
        "outputId": "cf65e4af-52ab-489f-f9e6-7750e58d3c7d"
      },
      "execution_count": 44,
      "outputs": [
        {
          "output_type": "stream",
          "name": "stdout",
          "text": [
            "14  22  24  29  15  11  \n",
            "Detected the Loop inside the linked list\n"
          ]
        }
      ]
    },
    {
      "cell_type": "code",
      "source": [
        "## merge of two sorted lists as single sorted list\n",
        "class ListNode:\n",
        "   def __init__(self, data):\n",
        "     self.data = data\n",
        "     self.next = None\n",
        "\n",
        "class LinkedList:\n",
        "   def __init__(self):\n",
        "     self.head = None\n",
        "\n",
        "   def insertatEnd(self, new_data):\n",
        "     new_node = ListNode(new_data)\n",
        "     if self.head is None:\n",
        "         self.head = new_node\n",
        "         return\n",
        "\n",
        "     temp = self.head\n",
        "     while temp.next:\n",
        "         temp = temp.next\n",
        "\n",
        "     temp.next = new_node\n",
        "\n",
        "\n",
        "\n",
        "\n",
        "   def printlist(self):\n",
        "     temp = self.head\n",
        "     while temp:\n",
        "       print(str(temp.data)+\" \",end=\" \")\n",
        "       temp = temp.next\n",
        "\n",
        "\n",
        "\n",
        "def mergeLists(list1, list2):\n",
        "     temp = None\n",
        "     if list1 is None:\n",
        "       return list2\n",
        "     if list2 is None:\n",
        "       return list1\n",
        "\n",
        "     if list1.data  <= list2.data:\n",
        "       temp = list1\n",
        "       temp.next = mergeLists(list1.next, list2)\n",
        "     else:\n",
        "       temp = list2\n",
        "       temp.next = mergeLists(list1, list2.next)\n",
        "     return temp\n",
        "\n",
        "\n",
        "llist1 = LinkedList()\n",
        "\n",
        "llist1.insertatEnd(11)\n",
        "llist1.insertatEnd(14)\n",
        "llist1.insertatEnd(15)\n",
        "llist1.insertatEnd(22)\n",
        "llist1.insertatEnd(24)\n",
        "llist1.insertatEnd(29)\n",
        "print(\"List 1:\")\n",
        "llist1.printlist()\n",
        "\n",
        "print()\n",
        "\n",
        "llist2 = LinkedList()\n",
        "\n",
        "llist2.insertatEnd(7)\n",
        "llist2.insertatEnd(10)\n",
        "llist2.insertatEnd(18)\n",
        "llist2.insertatEnd(23)\n",
        "llist2.insertatEnd(27)\n",
        "llist2.insertatEnd(29)\n",
        "print(\"List 2:\")\n",
        "llist2.printlist()\n",
        "\n",
        "llist = LinkedList()\n",
        "\n",
        "llist.head = mergeLists(llist1.head, llist2.head)\n",
        "print(\"Merged List:\")\n",
        "llist.printlist()"
      ],
      "metadata": {
        "colab": {
          "base_uri": "https://localhost:8080/"
        },
        "id": "4aF-CS-nL75u",
        "outputId": "a8843be9-2ebd-4a86-be32-4646756ab313"
      },
      "execution_count": 40,
      "outputs": [
        {
          "output_type": "stream",
          "name": "stdout",
          "text": [
            "List 1:\n",
            "11  14  15  22  24  29  \n",
            "List 2:\n",
            "7  10  18  23  27  29  Merged List:\n",
            "7  10  11  14  15  18  22  23  24  27  29  29  "
          ]
        }
      ]
    },
    {
      "cell_type": "code",
      "source": [],
      "metadata": {
        "id": "bln6Mhr5NkAM"
      },
      "execution_count": 40,
      "outputs": []
    }
  ]
}