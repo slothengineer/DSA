{
  "nbformat": 4,
  "nbformat_minor": 0,
  "metadata": {
    "colab": {
      "provenance": [],
      "authorship_tag": "ABX9TyOGwI9nB8rI6Nc0G2JoJENp",
      "include_colab_link": true
    },
    "kernelspec": {
      "name": "python3",
      "display_name": "Python 3"
    },
    "language_info": {
      "name": "python"
    }
  },
  "cells": [
    {
      "cell_type": "markdown",
      "metadata": {
        "id": "view-in-github",
        "colab_type": "text"
      },
      "source": [
        "<a href=\"https://colab.research.google.com/github/slothengineer/DSA/blob/main/Applicationofdevide%26conquer_.ipynb\" target=\"_parent\"><img src=\"https://colab.research.google.com/assets/colab-badge.svg\" alt=\"Open In Colab\"/></a>"
      ]
    },
    {
      "cell_type": "code",
      "source": [
        "## time complexity O(n)\n",
        "\n",
        "def findmaxnmin(arr, i, j):\n",
        "  if i == j:\n",
        "    max = arr[i]\n",
        "    min = arr[i]\n",
        "  elif i == j - 1:\n",
        "    if arr[i] < arr[j]:\n",
        "      max = arr[j]\n",
        "      min = arr[i]\n",
        "    else:\n",
        "      max = arr[i]\n",
        "      min = arr[j]\n",
        "  else:\n",
        "    mid = (i + (j - 1)) // 2\n",
        "    maxL,minL = findmaxnmin(arr, i, mid)\n",
        "    maxR,minR = findmaxnmin(arr, mid + 1, j)\n",
        "    if maxL < maxR:\n",
        "      max = maxR\n",
        "    else:\n",
        "      max = maxL\n",
        "    if minL < minR:\n",
        "      min = minL\n",
        "    else:\n",
        "      min = minR\n",
        "  return (max, min)\n",
        "\n",
        "arr=[1,2,3,4,5,6,7,8,9,10]\n",
        "i = 0\n",
        "j = len(arr) - 1\n",
        "max,min = findmaxnmin(arr, i, j)\n",
        "print(\"pair of max. and min.:\", (min, max))"
      ],
      "metadata": {
        "id": "IZpQWB_BrsX0",
        "colab": {
          "base_uri": "https://localhost:8080/"
        },
        "outputId": "48b265ac-8e1d-43f7-bbcf-f8340ecf0c5a"
      },
      "execution_count": 7,
      "outputs": [
        {
          "output_type": "stream",
          "name": "stdout",
          "text": [
            "pair of max. and min.: (1, 10)\n"
          ]
        }
      ]
    },
    {
      "cell_type": "code",
      "source": [
        "## time complexity O(log(n))\n",
        "\n",
        "def findpower(a, n):\n",
        "  if n == 1:\n",
        "    return a\n",
        "\n",
        "  else:\n",
        "    mid = n // 2\n",
        "    b = findpower(a, mid)\n",
        "    result= b * b\n",
        "    if n % 2 == 0:\n",
        "      return result\n",
        "    else:\n",
        "      return a * result\n",
        "\n",
        "a = 2\n",
        "n = 11\n",
        "result = findpower(a, n)\n",
        "print(\"n to the power a:\", result)"
      ],
      "metadata": {
        "id": "DK7myikLuzzt",
        "colab": {
          "base_uri": "https://localhost:8080/"
        },
        "outputId": "cb7d61f9-fef9-429a-d11e-94ed82f6fb87"
      },
      "execution_count": 8,
      "outputs": [
        {
          "output_type": "stream",
          "name": "stdout",
          "text": [
            "n to the power a: 2048\n"
          ]
        }
      ]
    },
    {
      "cell_type": "code",
      "source": [
        "## time complexity O(log(n))\n",
        "\n",
        "def binarysearch(arr, n, i, j):\n",
        "  i = 0\n",
        "  j = len(arr) - 1\n",
        "  while i < j:\n",
        "    mid = i + (j - 1) // 2\n",
        "    if arr[mid] == n:\n",
        "      return mid\n",
        "    elif n < arr[mid]:\n",
        "      j = mid - 1\n",
        "    else:\n",
        "      i = mid + 1\n",
        "  return -1\n",
        "\n",
        "\n",
        "arr = [1,11,14,22,24,29]\n",
        "n = 24\n",
        "i = 0\n",
        "j = len(arr) - 1\n",
        "print("Searched element:"binarysearch(arr, n, i, j))"
      ],
      "metadata": {
        "id": "koVzdeTv12hb",
        "colab": {
          "base_uri": "https://localhost:8080/"
        },
        "outputId": "cc9755e8-207e-4759-dcd5-7c5b95367a0b"
      },
      "execution_count": 9,
      "outputs": [
        {
          "output_type": "stream",
          "name": "stdout",
          "text": [
            "4\n"
          ]
        }
      ]
    },
    {
      "cell_type": "code",
      "source": [
        "## two pointers approch\n",
        "## used for optimization of searching, sorting and manipulating arrays\n",
        "## time complexity O(n)\n",
        "\n",
        "def findsumpair(arr, target):\n",
        "  n = len(arr)-1\n",
        "  l = 0\n",
        "  r = n-1\n",
        "  for i in range(0, n-1):\n",
        "    if arr[l] + arr[r] == target:\n",
        "      return l, r\n",
        "    elif arr[l] + arr[r] > target:\n",
        "      r = r - 1\n",
        "    else:\n",
        "      l = l + 1\n",
        "  return -1, -1\n",
        "\n",
        "arr= [20,40,50,75,120,145,200]\n",
        "print(\"The pair of sum numbers:\", findsumpair(arr, 220))"
      ],
      "metadata": {
        "colab": {
          "base_uri": "https://localhost:8080/"
        },
        "id": "mm1ED6U_quo5",
        "outputId": "f0f1e6b3-dc85-4730-f67a-a6c51758c6b5"
      },
      "execution_count": 10,
      "outputs": [
        {
          "output_type": "stream",
          "name": "stdout",
          "text": [
            "The pair of sum numbers: (3, 5)\n"
          ]
        }
      ]
    },
    {
      "cell_type": "code",
      "source": [
        "## time complexity O(nlog(n))\n",
        "\n",
        "def mergeprocedure(arr, i ,mid ,j):\n",
        "  n1= mid - i + 1\n",
        "  n2= j - (mid + 1) +1\n",
        "\n",
        "  lsubarray = [0] * n1\n",
        "  rsubarray = [0] * n2\n",
        "\n",
        "  for m in range(n1):\n",
        "    lsubarray[m] = arr[i + m]\n",
        "\n",
        "  for n in range(n2):\n",
        "    rsubarray[n] = arr[mid + 1 + n]\n",
        "\n",
        "    p = 0\n",
        "    q = 0\n",
        "    k = i\n",
        "\n",
        "  while p < n1 and q < n2:\n",
        "      if lsubarray[p] <= rsubarray[q]:\n",
        "        arr[k] = lsubarray[p]\n",
        "        p += 1\n",
        "      else:\n",
        "        arr[k] = rsubarray[q]\n",
        "        q += 1\n",
        "      k += 1\n",
        "\n",
        "  while p < n1:\n",
        "      arr[k] = lsubarray[p]\n",
        "      p += 1\n",
        "      k += 1\n",
        "\n",
        "  while q < n2:\n",
        "      arr[k] = rsubarray[q]\n",
        "      q += 1\n",
        "      k += 1\n",
        "\n",
        "\n",
        "\n",
        "def mergesort(arr,i,j):\n",
        "  if i < j:\n",
        "    mid=(i+(j-1)) // 2\n",
        "\n",
        "    mergesort(arr, i , mid)\n",
        "    mergesort(arr, mid+1 ,j)\n",
        "\n",
        "    mergeprocedure(arr,i,mid,j)\n",
        "  return arr\n",
        "\n",
        "arr = [64, 34, 25, 12, 22, 11, 90]\n",
        "mergesort(arr, 0, len(arr)-1)\n",
        "print(\"Sorted array:\", arr)"
      ],
      "metadata": {
        "colab": {
          "base_uri": "https://localhost:8080/"
        },
        "id": "7mpaTON0zPTC",
        "outputId": "c21b2349-3a23-4e89-8c4e-0246b6484534"
      },
      "execution_count": 11,
      "outputs": [
        {
          "output_type": "stream",
          "name": "stdout",
          "text": [
            "Sorted array: [11, 12, 22, 25, 34, 64, 90]\n"
          ]
        }
      ]
    },
    {
      "cell_type": "code",
      "source": [
        "## time complexity O(n^2)\n",
        "\n",
        "def partition(arr, p, q):\n",
        "  i = p\n",
        "  n = len(arr) - 1\n",
        "  pivot = arr[p]\n",
        "  for j in range(i+1, q+1):\n",
        "    if arr[j] <= pivot:\n",
        "      i += 1\n",
        "      arr[i], arr[j]= arr[j], arr[i]\n",
        "  arr[i], arr[p] = arr[p], arr[i]\n",
        "  return i\n",
        "\n",
        "\n",
        "\n",
        "def quicksort(arr,p,q):\n",
        "  if p < q:\n",
        "    m = partition(arr, p, q)\n",
        "    quicksort(arr, p, m-1)\n",
        "    quicksort(arr, m+1, q)\n",
        "  return arr\n",
        "\n",
        "arr = [64, 34, 25, 12, 22, 11, 90]\n",
        "quicksort(arr, 0, len(arr) - 1)\n",
        "print(\"Sorted array:\", arr)\n"
      ],
      "metadata": {
        "id": "CksWx6_a_EQV",
        "colab": {
          "base_uri": "https://localhost:8080/"
        },
        "outputId": "4c4d0e1f-ab3c-4f38-b1f9-87e25f2beebb"
      },
      "execution_count": 12,
      "outputs": [
        {
          "output_type": "stream",
          "name": "stdout",
          "text": [
            "Sorted array: [11, 12, 22, 25, 34, 64, 90]\n"
          ]
        }
      ]
    },
    {
      "cell_type": "code",
      "source": [
        "## average-case time complexity of Quick Sort to O(n log n) while still having the potential for a worst-case time complexity of O(n^2)\n",
        "\n",
        "import random\n",
        "\n",
        "def randompivot(arr, p, q):\n",
        "  randompivot = random.randint(p, q)\n",
        "  arr[randompivot], arr[p] = arr[p], arr[randompivot]\n",
        "  return partition(arr, p, q)\n",
        "\n",
        "\n",
        "def partition(arr, p, q):\n",
        "  i = p\n",
        "  n = len(arr) - 1\n",
        "  pivot = arr[p]\n",
        "  for j in range(i + 1, q + 1):\n",
        "    if arr[j] <= pivot:\n",
        "      i += 1\n",
        "      arr[i], arr[j]= arr[j], arr[i]\n",
        "  arr[i], arr[p] = arr[p], arr[i]\n",
        "  return i\n",
        "\n",
        "\n",
        "\n",
        "def quicksort(arr,p,q):\n",
        "  if p < q:\n",
        "    m = randompivot(arr, p, q)\n",
        "    quicksort(arr, p, m-1)\n",
        "    quicksort(arr, m+1, q)\n",
        "  return arr\n",
        "\n",
        "\n",
        "arr = [64, 34, 25, 12, 22, 11, 90]\n",
        "quicksort(arr, 0, len(arr)-1)\n",
        "print(\"Sorted array:\", arr)"
      ],
      "metadata": {
        "colab": {
          "base_uri": "https://localhost:8080/"
        },
        "id": "TZv1GQrIkrtn",
        "outputId": "271f385e-9d8d-4051-d342-8fc77d0053c8"
      },
      "execution_count": 13,
      "outputs": [
        {
          "output_type": "stream",
          "name": "stdout",
          "text": [
            "Sorted array: [11, 12, 22, 25, 34, 64, 90]\n"
          ]
        }
      ]
    },
    {
      "cell_type": "code",
      "source": [
        "## time complexity O(n^2)\n",
        "def partition(arr, p, q):\n",
        "  i = p\n",
        "  pivot = arr[p]\n",
        "  for j in range(i + 1, q + 1):\n",
        "    if arr[j] <= pivot:\n",
        "      i += 1\n",
        "      arr[i], arr[j]= arr[j], arr[i]\n",
        "  arr[i], arr[p] = arr[p], arr[i]\n",
        "  return i+1\n",
        "\n",
        "\n",
        "def selectionprocedure(arr, p, q, k):\n",
        "  if p <= q:\n",
        "    m = partition(arr, p, q)\n",
        "    if m == k:\n",
        "      return arr[m - 1]\n",
        "    elif m < k:\n",
        "      return selectionprocedure(arr, m, q, k)\n",
        "    else:\n",
        "      return selectionprocedure(arr, p, m-2, k)\n",
        "\n",
        "\n",
        "\n",
        "arr = [64, 34, 25, 12, 22, 11, 90]\n",
        "result = selectionprocedure(arr, 0, len(arr) - 1, 5)\n",
        "print(\"kth smallest element in an array:\", result)"
      ],
      "metadata": {
        "id": "aWmytvQtwqyA",
        "colab": {
          "base_uri": "https://localhost:8080/"
        },
        "outputId": "19c6c4bf-8e86-4bea-a335-8fbdf8a7bfb0"
      },
      "execution_count": 16,
      "outputs": [
        {
          "output_type": "stream",
          "name": "stdout",
          "text": [
            "kth smallest element in an array: 34\n"
          ]
        }
      ]
    },
    {
      "cell_type": "code",
      "source": [
        "## time complexity O(nlog(n))\n",
        "\n",
        "def mergeandCount(left, right):\n",
        "  result = []\n",
        "  inversions = 0\n",
        "  i = 0\n",
        "  j = 0\n",
        "\n",
        "  while i < len(left) and j < len(right):\n",
        "    if left[i] <= right[j]:\n",
        "        result.append(left[i])\n",
        "        i += 1\n",
        "    else:\n",
        "        result.append(right[j])\n",
        "        j += 1\n",
        "        inversions += len(left) - i\n",
        "  result.extend(left[i:])\n",
        "  result.extend(right[j:])\n",
        "\n",
        "  return result, inversions\n",
        "\n",
        "\n",
        "\n",
        "def countInversions(arr):\n",
        "  if len(arr) <= 1:\n",
        "        return arr, 0\n",
        "\n",
        "  mid = len(arr)//2\n",
        "  left_half, left_inversions = countInversions(arr[:mid])\n",
        "  right_half, right_inversions = countInversions(arr[mid:])\n",
        "  mergedarr, splitInversions = mergeandCount(left_half, right_half)\n",
        "\n",
        "  return mergedarr, left_inversions + right_inversions + splitInversions\n",
        "\n",
        "arr = [70, 50 ,60, 10, 20, 30, 80, 15]\n",
        "merged_arr, inversions=countInversions(arr)\n",
        "print('Sorted Array:', merged_arr)\n",
        "print('no of inversions:',inversions)"
      ],
      "metadata": {
        "colab": {
          "base_uri": "https://localhost:8080/"
        },
        "id": "DdUCY1El41iY",
        "outputId": "4ec29619-a88d-433e-8b77-90efe5c467ac"
      },
      "execution_count": 15,
      "outputs": [
        {
          "output_type": "stream",
          "name": "stdout",
          "text": [
            "Sorted Array: [10, 15, 20, 30, 50, 60, 70, 80]\n",
            "no of inversions: 17\n"
          ]
        }
      ]
    },
    {
      "cell_type": "code",
      "source": [],
      "metadata": {
        "id": "Z5FpcjMsIY4P"
      },
      "execution_count": 15,
      "outputs": []
    }
  ]
}
