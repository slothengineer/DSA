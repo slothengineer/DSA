{
  "nbformat": 4,
  "nbformat_minor": 0,
  "metadata": {
    "colab": {
      "provenance": [],
      "authorship_tag": "ABX9TyNtxDRJRHzGcX9Vf9gfv9Xa",
      "include_colab_link": true
    },
    "kernelspec": {
      "name": "python3",
      "display_name": "Python 3"
    },
    "language_info": {
      "name": "python"
    }
  },
  "cells": [
    {
      "cell_type": "markdown",
      "metadata": {
        "id": "view-in-github",
        "colab_type": "text"
      },
      "source": [
        "<a href=\"https://colab.research.google.com/github/slothengineer/DSA/blob/main/Graph_traversals_algos_.ipynb\" target=\"_parent\"><img src=\"https://colab.research.google.com/assets/colab-badge.svg\" alt=\"Open In Colab\"/></a>"
      ]
    },
    {
      "cell_type": "markdown",
      "source": [
        "## DEPTH-FIRST SEARCH"
      ],
      "metadata": {
        "id": "jo82GaW4K2b3"
      }
    },
    {
      "cell_type": "code",
      "execution_count": 64,
      "metadata": {
        "id": "8kBP6aexKHDv"
      },
      "outputs": [],
      "source": [
        "## time complexity is O(V + E), where V is the number of vertices, and E is the number of edges in the graph\n",
        "## space complexity of the code is O(V)\n",
        "## recursion -> Stack data structure to store\n",
        "\n",
        "def depthFirstTraversal(visited, graph, node):\n",
        "    if node not in visited:\n",
        "        print(node, end=\" \")\n",
        "        visited.add(node)\n",
        "        for adjacentnodes in graph[node]:\n",
        "            if adjacentnodes not in visited:\n",
        "                depthFirstTraversal(visited, graph, adjacentnodes)"
      ]
    },
    {
      "cell_type": "code",
      "source": [
        "## storing the data of the graph using adjacency list\n",
        "visited = set()\n",
        "\n",
        "directed_graph = {\n",
        "    '11' : ['5', '98'],\n",
        "    '5' : ['29', '10'],\n",
        "    '98' : ['14'],\n",
        "    '29' : [],\n",
        "    '10' : ['14'],\n",
        "    '14' : []\n",
        "}\n",
        "\n",
        "print(\"DFS Traversal:\")\n",
        "depthFirstTraversal(visited, directed_graph, \"11\")"
      ],
      "metadata": {
        "colab": {
          "base_uri": "https://localhost:8080/"
        },
        "id": "Q6SLG86uaAZr",
        "outputId": "1f49293e-9bf0-4015-c145-c8d289c27422"
      },
      "execution_count": 65,
      "outputs": [
        {
          "output_type": "stream",
          "name": "stdout",
          "text": [
            "DFS Traversal:\n",
            "11 5 29 10 14 98 "
          ]
        }
      ]
    },
    {
      "cell_type": "code",
      "source": [
        "visited = set()\n",
        "complex_graph = {\n",
        "    'A': ['B', 'C', 'D'],\n",
        "    'B': ['E'],\n",
        "    'C': ['E', 'F'],\n",
        "    'D': ['F'],\n",
        "    'E': ['G'],\n",
        "    'F': ['G'],\n",
        "    'G': []\n",
        "}\n",
        "print(\"DFS Traversal:\")\n",
        "depthFirstTraversal(visited, complex_graph, 'A')"
      ],
      "metadata": {
        "colab": {
          "base_uri": "https://localhost:8080/"
        },
        "id": "OI95L_3kcDyh",
        "outputId": "d929c51d-558d-4b7f-f2f3-9ffab29e7244"
      },
      "execution_count": 66,
      "outputs": [
        {
          "output_type": "stream",
          "name": "stdout",
          "text": [
            "DFS Traversal:\n",
            "A B E G C F D "
          ]
        }
      ]
    },
    {
      "cell_type": "code",
      "source": [
        "visited = set()\n",
        "disconnected_graph = {\n",
        "    'A': ['B', 'C', 'D'],\n",
        "    'B': ['E'],\n",
        "    'C': ['E', 'F'],\n",
        "    'D': ['F'],\n",
        "    'E': ['G'],\n",
        "    'F': ['G'],\n",
        "    'G': [],\n",
        "    'X': ['Y', 'Z'],\n",
        "    'Y': ['W'],\n",
        "    'Z': []\n",
        "}\n",
        "\n",
        "print(\"DFS Traversal:\")\n",
        "depthFirstTraversal(visited, disconnected_graph, 'A')"
      ],
      "metadata": {
        "colab": {
          "base_uri": "https://localhost:8080/"
        },
        "id": "ALxBC-cree5n",
        "outputId": "7d5a8c62-69df-4c7d-b4dd-f6eef0934154"
      },
      "execution_count": 77,
      "outputs": [
        {
          "output_type": "stream",
          "name": "stdout",
          "text": [
            "DFS Traversal:\n",
            "A B E G C F D "
          ]
        }
      ]
    },
    {
      "cell_type": "markdown",
      "source": [
        "## BREADTH-FIRST SEARCH"
      ],
      "metadata": {
        "id": "lFcUA5XaPzTy"
      }
    },
    {
      "cell_type": "code",
      "source": [
        "## the time complexity is O(V + E), and the space complexity is O(V)\n",
        "## here , also we have used adjancency list\n",
        "\n",
        "from collections import deque\n",
        "queue = deque()\n",
        "\n",
        "def breadthFirstTraversal(visited, graph, node):\n",
        "    visited.add(node)\n",
        "    queue.appendleft(node)\n",
        "\n",
        "    while queue:\n",
        "        node = queue.pop()\n",
        "        print(node)\n",
        "        for adjacentnodes in graph[node]:\n",
        "            if adjacentnodes not in visited:\n",
        "                visited.add(adjacentnodes)\n",
        "                queue.appendleft(adjacentnodes)"
      ],
      "metadata": {
        "id": "agvk1p8CPy6h"
      },
      "execution_count": 68,
      "outputs": []
    },
    {
      "cell_type": "code",
      "source": [
        "visited = set()\n",
        "\n",
        "graph = {\n",
        "    'A' : ['B', 'C', 'D'],\n",
        "    'B' : ['E'],\n",
        "    'C' : ['E', 'F'],\n",
        "    'D' : ['F'],\n",
        "    'E' : ['G'],\n",
        "    'F' : ['G'],\n",
        "    'G' : []\n",
        "\n",
        "}\n",
        "\n",
        "print(\"BFS Traversal:\")\n",
        "breadthFirstTraversal(visited, graph, \"A\")"
      ],
      "metadata": {
        "colab": {
          "base_uri": "https://localhost:8080/"
        },
        "id": "qer5m9xBY2J6",
        "outputId": "c77ec8d2-2b67-4a7c-efb9-04498e40fbac"
      },
      "execution_count": 69,
      "outputs": [
        {
          "output_type": "stream",
          "name": "stdout",
          "text": [
            "BFS Traversal:\n",
            "A\n",
            "B\n",
            "C\n",
            "D\n",
            "E\n",
            "F\n",
            "G\n"
          ]
        }
      ]
    },
    {
      "cell_type": "code",
      "source": [
        "visited = set()\n",
        "\n",
        "graph2 = {\n",
        "    'A': ['B', 'C'],\n",
        "    'B': ['C'],\n",
        "    'C': ['D'],\n",
        "    'D': ['A', 'B'],\n",
        "    'E': ['A']\n",
        "}\n",
        "\n",
        "breadthFirstTraversal(visited, graph2, \"E\")"
      ],
      "metadata": {
        "colab": {
          "base_uri": "https://localhost:8080/"
        },
        "id": "ko793dUDa42k",
        "outputId": "35b1040f-3f20-45f4-f26d-c65c8231bc09"
      },
      "execution_count": 70,
      "outputs": [
        {
          "output_type": "stream",
          "name": "stdout",
          "text": [
            "E\n",
            "A\n",
            "B\n",
            "C\n",
            "D\n"
          ]
        }
      ]
    },
    {
      "cell_type": "code",
      "source": [
        "visited = set()\n",
        "complex_graph = {\n",
        "    'A': ['B', 'C', 'D'],\n",
        "    'B': ['E'],\n",
        "    'C': ['E', 'F'],\n",
        "    'D': ['F'],\n",
        "    'E': ['G'],\n",
        "    'F': ['G'],\n",
        "    'G': []\n",
        "}\n",
        "print(\"DFS Traversal:\")\n",
        "breadthFirstTraversal(visited, complex_graph, 'A')"
      ],
      "metadata": {
        "colab": {
          "base_uri": "https://localhost:8080/"
        },
        "id": "yd9YMWGHbOuj",
        "outputId": "14afd404-9400-42d0-9737-bfaa9f3a4a36"
      },
      "execution_count": 71,
      "outputs": [
        {
          "output_type": "stream",
          "name": "stdout",
          "text": [
            "DFS Traversal:\n",
            "A\n",
            "B\n",
            "C\n",
            "D\n",
            "E\n",
            "F\n",
            "G\n"
          ]
        }
      ]
    },
    {
      "cell_type": "code",
      "source": [
        "visited = set()\n",
        "\n",
        "disconnected_graph = {\n",
        "    'A': ['B', 'C', 'D'],\n",
        "    'B': ['E'],\n",
        "    'C': ['E', 'F'],\n",
        "    'D': ['F'],\n",
        "    'E': ['G'],\n",
        "    'F': ['G'],\n",
        "    'G': [],\n",
        "    'X': ['Y', 'Z'],\n",
        "    'Y': ['W'],\n",
        "    'Z': []\n",
        "}\n",
        "\n",
        "print(\"DFS Traversal:\")\n",
        "breadthFirstTraversal(visited, disconnected_graph, 'A')"
      ],
      "metadata": {
        "id": "7jlLX4ihcvKu",
        "colab": {
          "base_uri": "https://localhost:8080/"
        },
        "outputId": "8077bd0e-adef-4b0b-b13c-a72aea9fd351"
      },
      "execution_count": 75,
      "outputs": [
        {
          "output_type": "stream",
          "name": "stdout",
          "text": [
            "DFS Traversal:\n",
            "A\n",
            "B\n",
            "C\n",
            "D\n",
            "E\n",
            "F\n",
            "G\n"
          ]
        }
      ]
    },
    {
      "cell_type": "code",
      "source": [],
      "metadata": {
        "id": "6gZ4I9I_fUbm"
      },
      "execution_count": null,
      "outputs": []
    }
  ]
}