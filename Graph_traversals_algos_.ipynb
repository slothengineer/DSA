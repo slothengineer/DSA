{
  "nbformat": 4,
  "nbformat_minor": 0,
  "metadata": {
    "colab": {
      "provenance": [],
      "authorship_tag": "ABX9TyPxHsJxEl565ukmh+QCV1hs",
      "include_colab_link": true
    },
    "kernelspec": {
      "name": "python3",
      "display_name": "Python 3"
    },
    "language_info": {
      "name": "python"
    }
  },
  "cells": [
    {
      "cell_type": "markdown",
      "metadata": {
        "id": "view-in-github",
        "colab_type": "text"
      },
      "source": [
        "<a href=\"https://colab.research.google.com/github/slothengineer/DSA/blob/main/Graph_traversals_algos_.ipynb\" target=\"_parent\"><img src=\"https://colab.research.google.com/assets/colab-badge.svg\" alt=\"Open In Colab\"/></a>"
      ]
    },
    {
      "cell_type": "markdown",
      "source": [
        "## DEPTH-FIRST SEARCH"
      ],
      "metadata": {
        "id": "jo82GaW4K2b3"
      }
    },
    {
      "cell_type": "code",
      "execution_count": 37,
      "metadata": {
        "id": "8kBP6aexKHDv"
      },
      "outputs": [],
      "source": [
        "## time complexity is O(V + E), where V is the number of vertices, and E is the number of edges in the graph\n",
        "## space complexity of the code is O(V)\n",
        "## recursion -> Stack data structure to store\n",
        "\n",
        "def depthFirstTraversal(visited, graph, node):\n",
        "    if node not in visited:\n",
        "        print(node, end=\" \")\n",
        "        visited.add(node)\n",
        "        for adjacentnodes in graph[node]:\n",
        "            if adjacentnodes not in visited:\n",
        "                depthFirstTraversal(visited, graph, adjacentnodes)"
      ]
    },
    {
      "cell_type": "code",
      "source": [
        "## storing the data of the graph using adjacency list\n",
        "visited = set()\n",
        "\n",
        "directed_graph = {\n",
        "    '11' : ['5', '98'],\n",
        "    '5' : ['29', '10'],\n",
        "    '98' : ['14'],\n",
        "    '29' : [],\n",
        "    '10' : ['14'],\n",
        "    '14' : []\n",
        "}\n",
        "\n",
        "print(\"DFS Traversal:\")\n",
        "depthFirstTraversal(visited, directed_graph, \"11\")"
      ],
      "metadata": {
        "colab": {
          "base_uri": "https://localhost:8080/"
        },
        "id": "Q6SLG86uaAZr",
        "outputId": "764e7208-8c77-484b-ad52-ba195dee1b49"
      },
      "execution_count": 55,
      "outputs": [
        {
          "output_type": "stream",
          "name": "stdout",
          "text": [
            "DFS Traversal:\n",
            "11 5 29 10 14 98 "
          ]
        }
      ]
    },
    {
      "cell_type": "code",
      "source": [
        "visited = set()\n",
        "complex_graph = {\n",
        "    'A': ['B', 'C', 'D'],\n",
        "    'B': ['E'],\n",
        "    'C': ['E', 'F'],\n",
        "    'D': ['F'],\n",
        "    'E': ['G'],\n",
        "    'F': ['G'],\n",
        "    'G': []\n",
        "}\n",
        "print(\"DFS Traversal:\")\n",
        "depthFirstTraversal(visited, complex_graph, 'A')"
      ],
      "metadata": {
        "colab": {
          "base_uri": "https://localhost:8080/"
        },
        "id": "OI95L_3kcDyh",
        "outputId": "1c0d00aa-1b6e-4ef6-bd17-341e5240f448"
      },
      "execution_count": 54,
      "outputs": [
        {
          "output_type": "stream",
          "name": "stdout",
          "text": [
            "DFS Traversal:\n",
            "A B E G C F D "
          ]
        }
      ]
    },
    {
      "cell_type": "markdown",
      "source": [
        "## BREADTH-FIRST SEARCH"
      ],
      "metadata": {
        "id": "lFcUA5XaPzTy"
      }
    },
    {
      "cell_type": "code",
      "source": [
        "## the time complexity is O(V + E), and the space complexity is O(V)\n",
        "## here , also we have used adjancency list\n",
        "\n",
        "from collections import deque\n",
        "queue = deque()\n",
        "\n",
        "def breadthFirstTraversal(visited, graph, node):\n",
        "    visited.add(node)\n",
        "    queue.appendleft(node)\n",
        "\n",
        "    while queue:\n",
        "        node = queue.pop()\n",
        "        print(node)\n",
        "        for adjacentnodes in graph[node]:\n",
        "            if adjacentnodes not in visited:\n",
        "                visited.add(adjacentnodes)\n",
        "                queue.appendleft(adjacentnodes)"
      ],
      "metadata": {
        "id": "agvk1p8CPy6h"
      },
      "execution_count": 39,
      "outputs": []
    },
    {
      "cell_type": "code",
      "source": [
        "visited = set()\n",
        "\n",
        "graph = {\n",
        "    'A' : ['B', 'C', 'D'],\n",
        "    'B' : ['E'],\n",
        "    'C' : ['E', 'F'],\n",
        "    'D' : ['F'],\n",
        "    'E' : ['G'],\n",
        "    'F' : ['G'],\n",
        "    'G' : []\n",
        "\n",
        "}\n",
        "\n",
        "print(\"BFS Traversal:\")\n",
        "breadthFirstTraversal(visited, graph, \"A\")"
      ],
      "metadata": {
        "colab": {
          "base_uri": "https://localhost:8080/"
        },
        "id": "qer5m9xBY2J6",
        "outputId": "72f03650-4d77-4bb7-f7ce-833a1f4d6e85"
      },
      "execution_count": 56,
      "outputs": [
        {
          "output_type": "stream",
          "name": "stdout",
          "text": [
            "BFS Traversal:\n",
            "A\n",
            "B\n",
            "C\n",
            "D\n",
            "E\n",
            "F\n",
            "G\n"
          ]
        }
      ]
    },
    {
      "cell_type": "code",
      "source": [
        "visited = set()\n",
        "\n",
        "graph2 = {\n",
        "    'A': ['B', 'C'],\n",
        "    'B': ['C'],\n",
        "    'C': ['D'],\n",
        "    'D': ['A', 'B'],\n",
        "    'E': ['A']\n",
        "}\n",
        "\n",
        "breadthFirstTraversal(visited, graph2, \"E\")"
      ],
      "metadata": {
        "colab": {
          "base_uri": "https://localhost:8080/"
        },
        "id": "ko793dUDa42k",
        "outputId": "3094e193-6c05-4525-c171-c2545683e79b"
      },
      "execution_count": 51,
      "outputs": [
        {
          "output_type": "stream",
          "name": "stdout",
          "text": [
            "E\n",
            "A\n",
            "B\n",
            "C\n",
            "D\n"
          ]
        }
      ]
    },
    {
      "cell_type": "code",
      "source": [
        "visited = set()\n",
        "complex_graph = {\n",
        "    'A': ['B', 'C', 'D'],\n",
        "    'B': ['E'],\n",
        "    'C': ['E', 'F'],\n",
        "    'D': ['F'],\n",
        "    'E': ['G'],\n",
        "    'F': ['G'],\n",
        "    'G': []\n",
        "}\n",
        "print(\"DFS Traversal:\")\n",
        "breadthFirstTraversal(visited, complex_graph, 'A')"
      ],
      "metadata": {
        "colab": {
          "base_uri": "https://localhost:8080/"
        },
        "id": "yd9YMWGHbOuj",
        "outputId": "2d6d6d85-3dbd-4abb-e767-b779f29a2623"
      },
      "execution_count": 63,
      "outputs": [
        {
          "output_type": "stream",
          "name": "stdout",
          "text": [
            "DFS Traversal:\n",
            "A\n",
            "B\n",
            "C\n",
            "D\n",
            "E\n",
            "F\n",
            "G\n"
          ]
        }
      ]
    },
    {
      "cell_type": "code",
      "source": [],
      "metadata": {
        "id": "7jlLX4ihcvKu"
      },
      "execution_count": null,
      "outputs": []
    }
  ]
}